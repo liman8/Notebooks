{
  "cells": [
    {
      "cell_type": "markdown",
      "metadata": {
        "id": "view-in-github",
        "colab_type": "text"
      },
      "source": [
        "<a href=\"https://colab.research.google.com/github/liman8/Notebooks/blob/main/Copy_of_Linearna_Regresija.ipynb\" target=\"_parent\"><img src=\"https://colab.research.google.com/assets/colab-badge.svg\" alt=\"Open In Colab\"/></a>"
      ]
    },
    {
      "cell_type": "markdown",
      "metadata": {
        "id": "tsn-_cGgSZzG"
      },
      "source": [
        "# Linearna regresija"
      ]
    },
    {
      "cell_type": "markdown",
      "metadata": {
        "id": "E50JxxZcNwXB"
      },
      "source": [
        "**ZADATAK:** Kreirati model linearne regresije koji predviđa vidljivost u km na osnovu dostupnih podataka o drugim parametrima vremenske prognoze za grad Segedin. Podaci u bazi prikupljani su u periodu 2006-2016.\n",
        "\n",
        "**Napomena:** Za sva postavljena pitanja, napisati odgovore u novim tekstualnim ćelijama ispod poziva komandi."
      ]
    },
    {
      "cell_type": "code",
      "execution_count": null,
      "metadata": {
        "id": "6_wkshHhNwXD"
      },
      "outputs": [],
      "source": [
        "import numpy as np\n",
        "import pandas as pd\n",
        "import seaborn as sb\n",
        "import matplotlib.pyplot as plt\n",
        "from sklearn.model_selection import train_test_split\n",
        "from sklearn.preprocessing import StandardScaler, PolynomialFeatures\n",
        "from sklearn.linear_model import LinearRegression, Ridge, Lasso\n",
        "from sklearn import datasets"
      ]
    },
    {
      "cell_type": "markdown",
      "metadata": {
        "id": "HjGEZu6DS4lW"
      },
      "source": [
        "# Upoznavanje baze podataka"
      ]
    },
    {
      "cell_type": "code",
      "execution_count": null,
      "metadata": {
        "id": "sxdBTJmrS0sV"
      },
      "outputs": [],
      "source": [
        "# preuzimanje baze\n",
        "!gdown 1NpFP8jxoW-CwL4v73wigrg7hI7DfK3nN"
      ]
    },
    {
      "cell_type": "markdown",
      "metadata": {
        "id": "cwbBqrSbSvms"
      },
      "source": [
        "Učitati bazu podataka u Pandas DataFrame i prikazati prvih 5 uzoraka."
      ]
    },
    {
      "cell_type": "code",
      "source": [
        "# weatherHistory.csv\n",
        "\n",
        "# TODO\n",
        "df = pd.read_csv('weatherHistory.csv')\n",
        "df.head()"
      ],
      "metadata": {
        "id": "1iywP2vLjGQT"
      },
      "execution_count": null,
      "outputs": []
    },
    {
      "cell_type": "markdown",
      "metadata": {
        "id": "CSV__rNxNwXE"
      },
      "source": [
        "*   Koliko ima uzoraka?\n",
        "*   Koliko ima obeležja?\n",
        "*   Kog su tipa obeležja?\n"
      ]
    },
    {
      "cell_type": "code",
      "execution_count": null,
      "metadata": {
        "id": "x-VLUTFgS1-Q"
      },
      "outputs": [],
      "source": [
        "# TODO\n"
      ]
    },
    {
      "cell_type": "markdown",
      "metadata": {
        "id": "05ssqqfBNwXE"
      },
      "source": [
        "Analizirati kategorička obeležja.\n",
        "\n",
        "*   Koje su im jedinstvene vrednosti?\n",
        "\n"
      ]
    },
    {
      "cell_type": "code",
      "source": [
        "# TODO\n"
      ],
      "metadata": {
        "id": "owhGb-SzkFZs"
      },
      "execution_count": null,
      "outputs": []
    },
    {
      "cell_type": "markdown",
      "metadata": {
        "id": "1uVpDtrQNwXF"
      },
      "source": [
        "Izračunati statističke vrednosti za sve numeričke varijable."
      ]
    },
    {
      "cell_type": "code",
      "source": [
        "# TODO\n"
      ],
      "metadata": {
        "id": "6xMamAjjkHvX"
      },
      "execution_count": null,
      "outputs": []
    },
    {
      "cell_type": "markdown",
      "metadata": {
        "id": "yPUJLZmrNwXF"
      },
      "source": [
        "Za sada, izbaciti iz baze sva kategorička obeležja osim padavina `Precip Type` i pravca vetra `Wind Bearing (degrees)`.\n",
        "\n",
        "*   Šta raditi obeležjem datum?\n",
        "\n",
        "*   Šta raditi sa obeležjem `Cloud cover` (koje su vrednosti tog obeležja)?"
      ]
    },
    {
      "cell_type": "code",
      "source": [
        "# TODO\n",
        "x=df.drop(['Summary','Daily Summary', 'Formatted Date', 'Loud Cover', 'Visibility (km)'], axis=1)\n",
        "y=df['Visibility (km)']\n",
        "print(x.shape)\n",
        "print(x.columns)\n",
        "x.head()"
      ],
      "metadata": {
        "id": "6xY1RFSAk8RM"
      },
      "execution_count": null,
      "outputs": []
    },
    {
      "cell_type": "markdown",
      "metadata": {
        "id": "EpxcxVgPO7SW"
      },
      "source": [
        "U promenljivu `X` staviti sva obeležja na osnovu kojih će se vršiti predviđanje, a u promenljivu `y` staviti onu promenljivu čije će se vrednosti predviđati regresionim modelom (`Visibility (km)`).\n",
        "\n",
        "*   Koliko ima uzoraka i obeležja?\n",
        "\n",
        "Prikazati prvih 5 uzoraka.\n",
        "\n",
        "U nastavku koristiti promenljive `X` i `y`."
      ]
    },
    {
      "cell_type": "code",
      "source": [
        "# TODO\n"
      ],
      "metadata": {
        "id": "8BbjKHj-lH4v"
      },
      "execution_count": null,
      "outputs": []
    },
    {
      "cell_type": "markdown",
      "metadata": {
        "id": "O6h3VKSANwXF"
      },
      "source": [
        "*   Koje su moguće vrednosti za padavine iz obeležja `Percip Type`?\n",
        "*   Šta predstavljaju `nan` vrednosti ovde?"
      ]
    },
    {
      "cell_type": "code",
      "source": [
        "# TODO\n"
      ],
      "metadata": {
        "id": "egvVUSGyl-Vg"
      },
      "execution_count": null,
      "outputs": []
    },
    {
      "cell_type": "markdown",
      "source": [
        "Prebaciti vrednosti obeležja `Percip Type` u numeričke vrednosti kreiranjem dummy varijabli i rešiti problem nedostajućih vrednosti.\n",
        "\n",
        "**Napomena:** pogledati dokumentaciju za funkciju [`pandas.get_dummies`](https://pandas.pydata.org/docs/reference/api/pandas.get_dummies.html)"
      ],
      "metadata": {
        "id": "ZRjA6pCzl9z_"
      }
    },
    {
      "cell_type": "code",
      "source": [
        "# TODO\n",
        "x=pd.get_dummies(x)\n",
        "x.head()"
      ],
      "metadata": {
        "id": "JJodOd-8mZ87"
      },
      "execution_count": null,
      "outputs": []
    },
    {
      "cell_type": "markdown",
      "metadata": {
        "id": "Zh1ocDwBNwXG"
      },
      "source": [
        "Proveriti da li u bazi ima nedostajućih vrednosti."
      ]
    },
    {
      "cell_type": "code",
      "source": [
        "# TODO\n",
        "print(x.isnull().sum())"
      ],
      "metadata": {
        "id": "haim89WEmdu8"
      },
      "execution_count": null,
      "outputs": []
    },
    {
      "cell_type": "markdown",
      "metadata": {
        "id": "3enfFI3tNwXG"
      },
      "source": [
        "Izvršiti statističku analizu baze.\n",
        "\n",
        "*    Da li postoje nemoguće/pogrešne vrednosti u bazi?"
      ]
    },
    {
      "cell_type": "code",
      "source": [
        "# TODO\n",
        "x.describe()"
      ],
      "metadata": {
        "id": "xCuUyRM6m90L"
      },
      "execution_count": null,
      "outputs": []
    },
    {
      "cell_type": "markdown",
      "source": [
        "Prikazati raspodelu za obeležje pritiska\n",
        "\n",
        "*    Može li pritisak biti 0? Kako rešiti problem?"
      ],
      "metadata": {
        "id": "6_VISuDZnTnE"
      }
    },
    {
      "cell_type": "code",
      "source": [
        "# TODO"
      ],
      "metadata": {
        "id": "K3ItO0H1nUCn"
      },
      "execution_count": null,
      "outputs": []
    },
    {
      "cell_type": "code",
      "source": [
        "x['Pressure (millibars)'] = x['Pressure (millibars)'].replace(0.0, np.nan)\n",
        "x['Pressure (millibars)'] = x['Pressure (millibars)'].fillna(x['Pressure (millibars)'].median())\n"
      ],
      "metadata": {
        "id": "CqTFp6YP7L67"
      },
      "execution_count": null,
      "outputs": []
    },
    {
      "cell_type": "code",
      "source": [
        "x.describe()"
      ],
      "metadata": {
        "id": "OM8v6xjrWbCD"
      },
      "execution_count": null,
      "outputs": []
    },
    {
      "cell_type": "markdown",
      "metadata": {
        "id": "sxaFSxkuQxWk"
      },
      "source": [
        "Nacrtati raspodelu vrednosti varijable `Visibility (km)` koja će se predvidjati modelom linearne regresije i uraditi statističku analizu te promenljive."
      ]
    },
    {
      "cell_type": "code",
      "source": [
        "# TODO\n",
        "\n"
      ],
      "metadata": {
        "id": "G9_j9BspnYN8"
      },
      "execution_count": null,
      "outputs": []
    },
    {
      "cell_type": "code",
      "source": [],
      "metadata": {
        "id": "DzevmDiK8w_o"
      },
      "execution_count": null,
      "outputs": []
    },
    {
      "cell_type": "markdown",
      "metadata": {
        "id": "xtE51On6rr4u"
      },
      "source": [
        "Kreirati funkciju `get_wind_direction` koja prima numerički parametar `direction` i kao rezultat vraća karakter za pravac vetra prema sledećim pravilima:\n",
        "\n",
        "*   za `direction` u intervalu [45, 135) $\\rightarrow$ `'N'`\n",
        "*   za `direction` u intervalu [135, 225) $\\rightarrow$ `'W'`\n",
        "*   za `direction` u intervalu [225, 315) $\\rightarrow$ `'S'`\n",
        "*   za sve ostale `direction` vrednosti $\\rightarrow$ `'E'`\n",
        "\n",
        "Primeniti funkciju za pravljenje kategoričke varijable sa navedenim kategorijama (metoda [`apply`](https://pandas.pydata.org/docs/reference/api/pandas.DataFrame.apply.html)) iz obeležja `Wind Bearing (degrees)`, a potom je pretvoriti u dummy varijable.\n",
        "\n",
        "**Napomena:** koristiti minimalni broj potrebnih obeležja pri kreiranju dummy varijabli."
      ]
    },
    {
      "cell_type": "code",
      "source": [
        "# TODO\n"
      ],
      "metadata": {
        "id": "4cekvV19nuTY"
      },
      "execution_count": null,
      "outputs": []
    },
    {
      "cell_type": "code",
      "source": [],
      "metadata": {
        "id": "G_Xf3k7I-yn2"
      },
      "execution_count": null,
      "outputs": []
    },
    {
      "cell_type": "code",
      "source": [],
      "metadata": {
        "id": "Kq0pUved_dCf"
      },
      "execution_count": null,
      "outputs": []
    },
    {
      "cell_type": "code",
      "source": [],
      "metadata": {
        "id": "haNqaziHdC-r"
      },
      "execution_count": null,
      "outputs": []
    },
    {
      "cell_type": "markdown",
      "metadata": {
        "id": "VQIMn9vpRRoj"
      },
      "source": [
        "# Normalizacija obeležja"
      ]
    },
    {
      "cell_type": "markdown",
      "metadata": {
        "id": "FoWVNoduRYeH"
      },
      "source": [
        "Postoji nekoliko vrsta normalizacije. Samostalno implementirati funkcije za\n",
        "\n",
        "1.   Normalizaciju na opseg [0,1] \\begin{equation}y_i^{norm} = \\frac{y_i-y_{min}}{y_{max}-y_{min}}\\end{equation}\n",
        "2.   Z-normalizaciju ili standardizaciju \\begin{equation}y_i^{std} = \\frac{y_i-\\mu}{\\sigma}\\end{equation}\n",
        "\n",
        "i izvršiti ih nad promenljivom `y` kao odvojene rezultate `y_normalizovano`, `y_standardizovano`.\n",
        "\n",
        "Proveriti statističke vrednosti pre i posle pozivanja funkcija i nacrtati raspodelu promenljive `y`.\n",
        "\n",
        "*   Da li ima razlike?"
      ]
    },
    {
      "cell_type": "code",
      "source": [
        "# TODO"
      ],
      "metadata": {
        "id": "cVsEq_7PrdeG"
      },
      "execution_count": null,
      "outputs": []
    },
    {
      "cell_type": "markdown",
      "source": [
        "Ponoviti proceduru normalizacije, sada korišćenjem [`sklearn.preprocessing.MinMaxScaler`](https://scikit-learn.org/1.5/modules/generated/sklearn.preprocessing.MinMaxScaler.html) klase. Uporediti rezultate."
      ],
      "metadata": {
        "id": "Y2J-zgg2rgE3"
      }
    },
    {
      "cell_type": "code",
      "source": [
        "# TODO\n"
      ],
      "metadata": {
        "id": "9Evy9ZwEsKDS"
      },
      "execution_count": null,
      "outputs": []
    },
    {
      "cell_type": "markdown",
      "source": [
        "Ponoviti proceduru standardizacije, sada korišćenjem [`sklearn.preprocessing.StandardScaler`](https://scikit-learn.org/1.5/modules/generated/sklearn.preprocessing.StandardScaler.html) klase. Uporediti rezultate."
      ],
      "metadata": {
        "id": "D7y622nKsMQA"
      }
    },
    {
      "cell_type": "code",
      "source": [
        "# TODO\n"
      ],
      "metadata": {
        "id": "ftzcQmz2sWo0"
      },
      "execution_count": null,
      "outputs": []
    },
    {
      "cell_type": "markdown",
      "metadata": {
        "id": "J6UHbSORR0mm"
      },
      "source": [
        "# Mere uspešnosti regresora"
      ]
    },
    {
      "cell_type": "markdown",
      "metadata": {
        "id": "U_ankDSXNwXH"
      },
      "source": [
        "Kreirati funkciju `model_evaluation` koja za ulazne parametre `y_test` (kao prave vrednosti $y_i$), `y_predicted` (kao prediktovane vrednosti $\\hat{y}_i$), `N` i `d` vraća različite mere uspešnosti regresora:"
      ]
    },
    {
      "cell_type": "markdown",
      "metadata": {
        "id": "XYZHbRJPTl85"
      },
      "source": [
        "\n",
        "*   MSE (mean squared error) - srednja kvadratna greška\n",
        "\\begin{equation}MSE = \\frac{1}{N}\\sum_i(y_i-\\hat{y_i})^2\\end{equation}\n",
        "*   MAE (mean absolute error) - srednja apsolutna greška\n",
        "\\begin{equation}MAE = \\frac{1}{N}\\sum_i|y_i-\\hat{y_i}|\\end{equation}\n",
        "*   RMSE (root mean squared error) - koren srednje kvadratne greške\n",
        "\\begin{equation}RMSE = \\sqrt{MSE}\\end{equation}\n",
        "*   $R^2$ skor\n",
        "\\begin{equation}R^2=1-\\frac{\\sum_i(y_i-\\hat{y_i})^2}{\\sum_i(y_i-\\overline{y_i})^2}\\end{equation}\n",
        "*   $R^2$ skor prilagođen (adjusted)\n",
        "\\begin{equation}R^2_{adj} =1 - \\frac{(1-R^2)*(N-1)}{(N-d-1)}\\end{equation} *N* je broj uzoraka, a *d* broj obeležja\n",
        "\n"
      ]
    },
    {
      "cell_type": "markdown",
      "source": [
        "Funkcija dodatno treba da vrši ispis vrednosti opisanih mera, kao i da prikaže uporedni prikaz nekoliko pravih i prediktovanih vrednosti."
      ],
      "metadata": {
        "id": "vn2OvMSEtiY-"
      }
    },
    {
      "cell_type": "code",
      "source": [
        "# TODO\n",
        "def model_evaluation(y_test, y_predicted, N, d):\n",
        "    mse = np.mean((y_test-y_predicted)**2)\n",
        "    # mse = mean_squared_error(y_test,y_predicted)\n",
        "    mae = np.mean(np.abs(y_test-y_predicted))\n",
        "    # mae = mean_absolute_error(y_test,y_predicted)\n",
        "    rmse = np.sqrt(mse)\n",
        "    r2 = 1-np.sum((y_test-y_predicted)**2)/np.sum((y_test-np.mean(y_test))**2)\n",
        "    # r2 = r2_score(y_test, y_predicted)\n",
        "    r2_adj = 1-((1-r2)*(N-1))/(N-d-1)\n",
        "\n",
        "    # printing values\n",
        "    print('Mean squared error: ', mse)\n",
        "    print('Mean absolute error: ', mae)\n",
        "    print('Root mean squared error: ', rmse)\n",
        "    print('R2 score: ', r2)\n",
        "    print('R2 adjusted score: ', r2_adj)\n",
        "\n",
        "    # Uporedni prikaz nekoliko pravih i predvidjenih vrednosti\n",
        "    res=pd.concat([pd.DataFrame(y_test.values), pd.DataFrame(y_predicted)], axis=1)\n",
        "    res.columns = ['y', 'y_pred']\n",
        "    print(res.head(20))\n",
        "    return mse,mae,rmse,r2,r2_adj"
      ],
      "metadata": {
        "id": "s_y7TmYbtf7e"
      },
      "execution_count": null,
      "outputs": []
    },
    {
      "cell_type": "markdown",
      "source": [
        "Testirati funkciju za neka 2 proizvoljna niza i potom uporediti rezultate odgovarajućih mera sa ugrađenim funkcijama\n",
        "\n",
        "*   [`sklearn.metrics.mean_squared_error`](https://scikit-learn.org/1.5/modules/generated/sklearn.metrics.mean_squared_error.html)\n",
        "*   [`sklearn.metrics.mean_absolute_error`](https://scikit-learn.org/1.5/modules/generated/sklearn.metrics.median_absolute_error.html)\n",
        "*   [`sklearn.metrics.r2_score`](https://scikit-learn.org/1.5/modules/generated/sklearn.metrics.r2_score.html)"
      ],
      "metadata": {
        "id": "BICNZQhXt873"
      }
    },
    {
      "cell_type": "code",
      "source": [
        "# TODO\n",
        "\n"
      ],
      "metadata": {
        "id": "AsY5_jH6uoh3"
      },
      "execution_count": null,
      "outputs": []
    },
    {
      "cell_type": "markdown",
      "metadata": {
        "id": "MikGNtCwe7Yp"
      },
      "source": [
        "# Obuka modela linearne regresije"
      ]
    },
    {
      "cell_type": "markdown",
      "metadata": {
        "id": "Dqkg_7x_fH9j"
      },
      "source": [
        "## I model\n",
        "\n",
        "\n",
        "*   Podela skupa na *trening* i *test*\n",
        "*   Obuka modela sa osnovnom hipotezom\n",
        "\\begin{equation} y=b_0+b_1x_1+b_2x_2+...b_dx_d\\end{equation}\n",
        "*   Primena modela na test uzorke\n",
        "*   Evaluacija modela\n"
      ]
    },
    {
      "cell_type": "markdown",
      "source": [
        "Koristeći funkciju [`sklearn.model_selection.train_test_split`](https://scikit-learn.org/1.5/modules/generated/sklearn.model_selection.train_test_split.html) izvršiti podelu skupa `X` i `y` na `train` i `test` celine. Zahtevati da test skup sadrži **10%** podataka. Fiksirati generator slučajnih vrednosti na **42**."
      ],
      "metadata": {
        "id": "9txh_PpLvASr"
      }
    },
    {
      "cell_type": "code",
      "source": [
        "# TODO\n",
        "x_train, x_test, y_train, y_test = train_test_split(x, y, test_size=0.1, random_state=42)"
      ],
      "metadata": {
        "id": "aVW1VbwlwBI4"
      },
      "execution_count": null,
      "outputs": []
    },
    {
      "cell_type": "markdown",
      "source": [
        "Koristeći klasu [`sklearn.linear_model.LinearRegression`](https://scikit-learn.org/1.5/modules/generated/sklearn.linear_model.LinearRegression.html) kreirati inicijalni model linearne regresije za parametar `fit_intercept=True`.\n",
        "\n",
        "*   Šta predstavlja ovaj parametar?"
      ],
      "metadata": {
        "id": "ghDcJ8Unw03P"
      }
    },
    {
      "cell_type": "code",
      "source": [
        "x.head()"
      ],
      "metadata": {
        "id": "Aq1L5tOplpFx"
      },
      "execution_count": null,
      "outputs": []
    },
    {
      "cell_type": "code",
      "source": [
        "# TODO\n",
        "# Inicijalizacija modela (podesavanje hiperparametara)\n",
        "first_regression_model = LinearRegression(fit_intercept=True)\n",
        "\n",
        "# Obuka modela\n",
        "first_regression_model.fit(x_train, y_train)\n",
        "\n",
        "# Testiranje obucenog modela (primena modela)\n",
        "y_predicted = first_regression_model.predict(x_test)\n",
        "\n",
        "# Evaluacija (racunanje mera uspesnosti)\n",
        "model_evaluation(y_test, y_predicted, x_train.shape[0], x_train.shape[1])\n",
        "\n",
        "# Ilustracija koeficijenata\n",
        "plt.figure(figsize=(10,5))\n",
        "plt.bar(range(len(first_regression_model.coef_)),first_regression_model.coef_)\n",
        "print(\"koeficijenti: \", first_regression_model.coef_)"
      ],
      "metadata": {
        "id": "5SRrYKD8xPS0"
      },
      "execution_count": null,
      "outputs": []
    },
    {
      "cell_type": "markdown",
      "source": [
        "Obučiti kreirani model koristeći metodu [`fit`](https://scikit-learn.org/1.5/modules/generated/sklearn.linear_model.LinearRegression.html#sklearn.linear_model.LinearRegression.fit) i trening podatke a zatim izvršiti predviđanje nad test podacima koristeći metodu [`predict`](https://scikit-learn.org/1.5/modules/generated/sklearn.linear_model.LinearRegression.html#sklearn.linear_model.LinearRegression.predict). Rezultate predikcije staviti u promenljivu `y_predicted`."
      ],
      "metadata": {
        "id": "vx0FqGaixRZU"
      }
    },
    {
      "cell_type": "code",
      "source": [
        "# TODO"
      ],
      "metadata": {
        "id": "5zidWZ8wyEyy"
      },
      "execution_count": null,
      "outputs": []
    },
    {
      "cell_type": "markdown",
      "source": [
        "Izvršiti evaluaciju modela koristeći implementiranu funkciju [`model_evaluation`](#scrollTo=J6UHbSORR0mm)."
      ],
      "metadata": {
        "id": "MEg-MAXRyGDK"
      }
    },
    {
      "cell_type": "code",
      "source": [
        "# TODO"
      ],
      "metadata": {
        "id": "k3-GcTU9yb8i"
      },
      "execution_count": null,
      "outputs": []
    },
    {
      "cell_type": "markdown",
      "source": [
        "Koristeći [`matplotlib.pyplot.bar`](https://matplotlib.org/stable/api/_as_gen/matplotlib.pyplot.bar.html) grafički prikazati koeficijente modela, sadržane u polju `coef_`."
      ],
      "metadata": {
        "id": "mhaJn7wTydmf"
      }
    },
    {
      "cell_type": "code",
      "source": [
        "# TODO"
      ],
      "metadata": {
        "id": "ulCMOlt5zEVL"
      },
      "execution_count": null,
      "outputs": []
    },
    {
      "cell_type": "markdown",
      "metadata": {
        "id": "mn_RbzUthCK0"
      },
      "source": [
        "## I model - standardizacija\n",
        "Obučiti model sa istom hipotezom ali sa standardizovanim obeležjima. Koristiti podelu na trening i test.\n",
        "\n",
        "*   Podela skupa na *trening* i *test*\n",
        "*   **Standardizacija**\n",
        "*   Obuka modela sa osnovnom hipotezom\n",
        "\\begin{equation} y=b_0+b_1x_1+b_2x_2+...b_dx_d\\end{equation}\n",
        "*   Primena modela na test uzorke\n",
        "*   Evaluacija modela"
      ]
    },
    {
      "cell_type": "code",
      "source": [
        "# TODO podela skupa na trening (90%) i test (10%)"
      ],
      "metadata": {
        "id": "4JImQhXdzpOc"
      },
      "execution_count": null,
      "outputs": []
    },
    {
      "cell_type": "markdown",
      "source": [
        "Definisati listu numeričkih i kategoričkih obeležja.\n",
        "\n"
      ],
      "metadata": {
        "id": "mHrqXgr8zrn9"
      }
    },
    {
      "cell_type": "code",
      "source": [
        "# TODO"
      ],
      "metadata": {
        "id": "P93fT7VF0wQM"
      },
      "execution_count": null,
      "outputs": []
    },
    {
      "cell_type": "markdown",
      "source": [
        "U okviru numeričkih obeležja, [fit](https://scikit-learn.org/1.5/modules/generated/sklearn.preprocessing.StandardScaler.html#sklearn.preprocessing.StandardScaler.fit)-ovati klasu standardizacije sa obeležjima trening podataka i potom izvršiti standardizaciju [transorm](https://scikit-learn.org/1.5/modules/generated/sklearn.preprocessing.StandardScaler.html#sklearn.preprocessing.StandardScaler.transform)-isanjem obeležja trening i test podataka.\n",
        "\n",
        "*   Da li smo mogli uraditi nezavisno fit i transform za trening i test podatke i zašto?"
      ],
      "metadata": {
        "id": "fpa7vz9A02t-"
      }
    },
    {
      "cell_type": "code",
      "source": [
        "# TODO"
      ],
      "metadata": {
        "id": "gYQFtUTg03IU"
      },
      "execution_count": null,
      "outputs": []
    },
    {
      "cell_type": "markdown",
      "source": [
        "Ponoviti proces obuke, primene i evaluacije modela sa novim podacimа.\n",
        "\n",
        "*   Da li ima razlike u rezultatima?\n",
        "\n",
        "Grafički prikazati koeficijente modela.\n",
        "\n",
        "*   Da li možemo interpretirati vrednosti koeficijenata na neki način?"
      ],
      "metadata": {
        "id": "87kPVxQ11FN0"
      }
    },
    {
      "cell_type": "code",
      "source": [
        "# TODO"
      ],
      "metadata": {
        "id": "IJqhT5411mWV"
      },
      "execution_count": null,
      "outputs": []
    },
    {
      "cell_type": "markdown",
      "source": [
        "## I model - regularizacija\n",
        "\n",
        "*   Podela skupa na *trening* i *test*\n",
        "*   Standardizacija\n",
        "*   Obuka modela sa osnovnom hipotezom **i regularizacijom**\n",
        "\\begin{equation} y=b_0+b_1x_1+b_2x_2+...b_dx_d\\end{equation}\n",
        "*   Primena modela na test uzorke\n",
        "*   Evaluacija modela"
      ],
      "metadata": {
        "id": "mmi76GlV8ygY"
      }
    },
    {
      "cell_type": "code",
      "source": [
        "# TODO podela skupa na trening (90%) i test (10%)"
      ],
      "metadata": {
        "id": "xEs1PgCK9SAz"
      },
      "execution_count": null,
      "outputs": []
    },
    {
      "cell_type": "code",
      "source": [
        "# TODO standardizacija spram trening seta"
      ],
      "metadata": {
        "id": "pSI_lCqk9V7H"
      },
      "execution_count": null,
      "outputs": []
    },
    {
      "cell_type": "markdown",
      "source": [
        "### Ridge\n",
        "\n",
        "Koristeći klasu [`sklearn.linear_model.Ridge`](https://scikit-learn.org/1.5/modules/generated/sklearn.linear_model.Ridge.html), obučiti model sa uključenom ridge regularizacijom.\n",
        "\n",
        "**Ridge regularizacija** podrazumeva uvođenje regularizacije u funkciju cene\n",
        "\\begin{equation} J=\\frac{1}{N}\\sum_i(y_i-\\hat{y_i})^2 + α\\sum_jθ_j^2 \\end{equation}\n",
        "\n",
        "Koristiti parametar `alpha=5`."
      ],
      "metadata": {
        "id": "svA2wzpN83oQ"
      }
    },
    {
      "cell_type": "code",
      "source": [
        "# TODO"
      ],
      "metadata": {
        "id": "tN0Whglf96hc"
      },
      "execution_count": null,
      "outputs": []
    },
    {
      "cell_type": "markdown",
      "source": [
        "### Lasso\n",
        "\n",
        "Koristeći klasu [`sklearn.linear_model.Lasso`](https://scikit-learn.org/1.5/modules/generated/sklearn.linear_model.Lasso.html), obučiti model sa uključenom lasso regularizacijom.\n",
        "\n",
        "**Lasso regularizacija** podrazumeva uvođenje regularizacije u funkciju cene\n",
        "\\begin{equation} J=\\frac{1}{N}\\sum_i(y_i-\\hat{y_i})^2 + α\\sum_j|θ_j| \\end{equation}\n",
        "\n",
        "Koristiti parametar `alpha=0.01`."
      ],
      "metadata": {
        "id": "uFeoq5Dq85uY"
      }
    },
    {
      "cell_type": "code",
      "source": [
        "# TODO"
      ],
      "metadata": {
        "id": "HU9V3-MY-ORT"
      },
      "execution_count": null,
      "outputs": []
    },
    {
      "cell_type": "markdown",
      "source": [
        "Odrediti mere performansi oba modela spram test seta.\n",
        "\n",
        "*   Čemu služi regularizacija? Šta reguliše parametar `alhpa`? Šta uočavamo iz grafičkih prikaza koeficijenata ovih modela?"
      ],
      "metadata": {
        "id": "cUH4C89e-u-9"
      }
    },
    {
      "cell_type": "code",
      "source": [
        "# TODO"
      ],
      "metadata": {
        "id": "vSoXDhM6_G1F"
      },
      "execution_count": null,
      "outputs": []
    },
    {
      "cell_type": "markdown",
      "source": [
        "*   Uporediti performanse ova dva modela. Da li je korektno poređenje na ovaj način i zašto?"
      ],
      "metadata": {
        "id": "lIt8g_ss-PgY"
      }
    },
    {
      "cell_type": "markdown",
      "metadata": {
        "id": "tgb1zWeNhcC0"
      },
      "source": [
        "## I model - trostruka podela podataka\n",
        "\n",
        "*   **Podela skupa podataka na *trening*, *validacioni* i *test* skup**\n",
        "*   Standardizacija obeležja\n",
        "*   Obuka modela sa osnovnom hipotezom i regularizacijom\n",
        "\\begin{equation} y=b_0+b_1x_1+b_2x_2+...b_dx_d\\end{equation}\n",
        "*   **Primena modela na uzorke iz validacionog skupa**\n",
        "*   Evaluacija modela **spram validacije** (**donošenje odluke o vrednostima hiperparametara**)\n",
        "*   **Obuka konačnog modela**\n",
        "*   Primena modela na test uzorke\n",
        "*   Evaluacija modela"
      ]
    },
    {
      "cell_type": "markdown",
      "source": [
        "Koristeći funkciju [`sklearn.model_selection.train_test_split`](https://scikit-learn.org/1.5/modules/generated/sklearn.model_selection.train_test_split.html) izvršiti podelu skupa `X` i `y` na `train`, `validation` i `test` celine. Zahtevano je da validacioni i test skup sadrže po **10%** podataka. Fiksirati generator slučajnih vrednosti na **42**."
      ],
      "metadata": {
        "id": "0ryXTO6y5_PG"
      }
    },
    {
      "cell_type": "code",
      "source": [
        "# TODO"
      ],
      "metadata": {
        "id": "YBbsSP7H6QWF"
      },
      "execution_count": null,
      "outputs": []
    },
    {
      "cell_type": "markdown",
      "source": [
        "Izvršiti standardizaciju svih skupova obeležja spram trening seta."
      ],
      "metadata": {
        "id": "jCzbCkVt6UVc"
      }
    },
    {
      "cell_type": "code",
      "source": [
        "# TODO"
      ],
      "metadata": {
        "id": "3W0haF7x6bZz"
      },
      "execution_count": null,
      "outputs": []
    },
    {
      "cell_type": "markdown",
      "source": [
        "Kreirati i obučiti modele sa lasso i ridge regularizacijom sa datom hipotezom."
      ],
      "metadata": {
        "id": "C-ESz9LD6hv2"
      }
    },
    {
      "cell_type": "code",
      "source": [
        "# TODO"
      ],
      "metadata": {
        "id": "29Qlw8Sr6o6M"
      },
      "execution_count": null,
      "outputs": []
    },
    {
      "cell_type": "markdown",
      "source": [
        "Primeniti model nad uzorcima validacionog skupa i izvršiti evaluaciju modela."
      ],
      "metadata": {
        "id": "TGJmfV6a6uQH"
      }
    },
    {
      "cell_type": "code",
      "source": [
        "# TODO"
      ],
      "metadata": {
        "id": "B9ofBZaF6-g0"
      },
      "execution_count": null,
      "outputs": []
    },
    {
      "cell_type": "markdown",
      "source": [
        "*   Uporediti performanse ova dva modela. Da li je korektno poređenje na ovaj način i zašto?"
      ],
      "metadata": {
        "id": "GP9qjGER7AL1"
      }
    },
    {
      "cell_type": "markdown",
      "source": [
        "Za odabrani model, izvršiti ponovo treniranje koristeći spojen trening i validacioni skup."
      ],
      "metadata": {
        "id": "-DWHuv-w7OS0"
      }
    },
    {
      "cell_type": "code",
      "source": [
        "# TODO"
      ],
      "metadata": {
        "id": "1pgpIOxe7Xc8"
      },
      "execution_count": null,
      "outputs": []
    },
    {
      "cell_type": "markdown",
      "source": [
        "Primeniti model nad test uzorcima i izvršiti evaluaciju modela."
      ],
      "metadata": {
        "id": "Bi6V7ooX7Yq2"
      }
    },
    {
      "cell_type": "code",
      "source": [
        "# TODO"
      ],
      "metadata": {
        "id": "r-pJPBg47e66"
      },
      "execution_count": null,
      "outputs": []
    },
    {
      "cell_type": "markdown",
      "metadata": {
        "id": "zTjZ_p0Ei9V7"
      },
      "source": [
        "## I model - unakrsna validacija\n",
        "\n",
        "*   **Podela skupa podataka na *trening* i *test*, a potom podela *trening* skupa na 5 disjunktnih podskupova, te realizacija unakrsne validacije kroz petlju u kojoj se radi:**\n",
        "  *   Standardizacija obeležja\n",
        "  *   Obuka modela sa osnovnom hipotezom i regularizacijom **sa (pod)trening podacima**\n",
        "\\begin{equation} y=b_0+b_1x_1+b_2x_2+...b_dx_d\\end{equation}\n",
        "  *   Primena modela na uzorke iz **(pod)test skupa**\n",
        "  *   Evaluacija modela (**čuvanje mera iz svake iteracije**)\n",
        "*   Računanje konačnih mera uspešnosti modela\n",
        "*   Obuka konačnog modela\n",
        "*   Primena modela na uzorke iz *test* skupa\n",
        "*   Evaluacija modela"
      ]
    },
    {
      "cell_type": "code",
      "source": [
        "# TODO podela skupa na trening (90%) i test (10%)"
      ],
      "metadata": {
        "id": "v_U49F8g8yGl"
      },
      "execution_count": null,
      "outputs": []
    },
    {
      "cell_type": "markdown",
      "source": [
        "Koristeći klasu [`sklearn.model_selection.KFold`](https://scikit-learn.org/stable/modules/generated/sklearn.model_selection.KFold.html) izvršiti podelu trening skupa na 5 celina. U okviru `for` petlje, koristeći pristup dataframe-u putem indeksa, izdvajati (pod)trening i (pod)test celine i izvršiti zahtevane korake. Rezultate individualnih mera evaluacije čuvati u izdvojenim listama. Ispisati na kraju prosek dobijenih mera evaluacije. Koristiti samo model sa ridge regularizacijom."
      ],
      "metadata": {
        "id": "PWm6WB0o8oOO"
      }
    },
    {
      "cell_type": "code",
      "source": [
        "# TODO"
      ],
      "metadata": {
        "id": "pyTFG11y-W8l"
      },
      "execution_count": null,
      "outputs": []
    },
    {
      "cell_type": "markdown",
      "source": [
        "Ponoviti postupak, koristeći sada model sa lasso regularizacijom."
      ],
      "metadata": {
        "id": "bnOb0RQ2-cCn"
      }
    },
    {
      "cell_type": "code",
      "source": [
        "# TODO"
      ],
      "metadata": {
        "id": "KYrJSiAI-fro"
      },
      "execution_count": null,
      "outputs": []
    },
    {
      "cell_type": "markdown",
      "source": [
        "*   Uporediti performanse ova dva modela. Da li je korektno poređenje na ovaj način i zašto?"
      ],
      "metadata": {
        "id": "U8JZBrBm-gb2"
      }
    },
    {
      "cell_type": "markdown",
      "source": [
        "Za odabrani model, izvršiti ponovo treniranje koristeći inicijalni trening skup."
      ],
      "metadata": {
        "id": "F4yB1b7y-nBQ"
      }
    },
    {
      "cell_type": "code",
      "source": [
        "# TODO"
      ],
      "metadata": {
        "id": "e4kcxIot-nBR"
      },
      "execution_count": null,
      "outputs": []
    },
    {
      "cell_type": "markdown",
      "source": [
        "Primeniti model nad test uzorcima i izvršiti evaluaciju modela."
      ],
      "metadata": {
        "id": "xNhHNrWX-nBR"
      }
    },
    {
      "cell_type": "code",
      "source": [
        "# TODO"
      ],
      "metadata": {
        "id": "qZpNQQrj-nBR"
      },
      "execution_count": null,
      "outputs": []
    },
    {
      "cell_type": "markdown",
      "metadata": {
        "id": "10KG8E3W6ryl"
      },
      "source": [
        "# Selekcija obeležja"
      ]
    },
    {
      "cell_type": "markdown",
      "metadata": {
        "id": "IS_bubw3r6yp"
      },
      "source": [
        "Najjednostavniji način selekcije obeležja baziran je na iterativnom procesu dodavanja najboljeg (selekcija unapred) ili oduzimanja najmanje dobrog (selekcija unazad) obeležja dok se ne zadrži ciljni broj obeležja koja će se koristiti za predikciju. U tom iterativnom procesu pravi se mnoštvo modela koji se međusobno porede prema zahtevanom skoru dobijenom unakrsnom validacijom na `k` podskupova."
      ]
    },
    {
      "cell_type": "markdown",
      "source": [
        "## II model\n",
        "\n",
        "*   Podela skupa podataka na *trening* i *test* skup\n",
        "*   Standardizacija obeležja\n",
        "*   **Evaluacija modela spram unakrsne validacije sa selekcijom obeležja**\n",
        " za obuku modela sa osnovnom hipotezom\n",
        "\\begin{equation} y=b_0+b_1x_1+b_2x_2+...b_dx_d\\end{equation}\n",
        "*   Obuka konačnog modela\n",
        "*   Primena modela na test uzorke\n",
        "*   Evaluacija modela"
      ],
      "metadata": {
        "id": "R0cS71JA__Wb"
      }
    },
    {
      "cell_type": "code",
      "source": [
        "# TODO podela skupa na trening (90%) i test (10%) i standardizaciju obeležja"
      ],
      "metadata": {
        "id": "qtB8YXBmBsYn"
      },
      "execution_count": null,
      "outputs": []
    },
    {
      "cell_type": "markdown",
      "source": [
        "Koristeći klasu [`sklearn.feature_selection.SequentialFeatureSelector`](https://scikit-learn.org/stable/modules/generated/sklearn.feature_selection.SequentialFeatureSelector.html) kreirati model za selekciju obeležja inicijalizovanog modela linearne regresije sa osnovnom hipotezom. Odrediti vrednost $R^2$ skora za zahtevani broj od `2` selektovana obeležja koristeći unakrsnu validaciju sa `5` foldova.\n",
        "\n",
        "Uporediti rezultate sa selekcijom unapred i unazad."
      ],
      "metadata": {
        "id": "i--5Ne1EBxbc"
      }
    },
    {
      "cell_type": "code",
      "source": [
        "# TODO"
      ],
      "metadata": {
        "id": "-HasEidkCn2l"
      },
      "execution_count": null,
      "outputs": []
    },
    {
      "cell_type": "markdown",
      "source": [
        "Za odabrana obeležja obučiti finalni model i izvršiti evaluaciju nad test skupom."
      ],
      "metadata": {
        "id": "7YFmsuyFCwF9"
      }
    },
    {
      "cell_type": "code",
      "source": [
        "# TODO"
      ],
      "metadata": {
        "id": "Qf5eMoGgCznW"
      },
      "execution_count": null,
      "outputs": []
    },
    {
      "cell_type": "markdown",
      "metadata": {
        "id": "Fwe6ZgNDw9Rs"
      },
      "source": [
        "Postoje i mnogi drugi načini selekcije obeležja, računanjem važnosti obeležja/međuinformacije, oslanjanjem na predviđene koeficijente modela, i dr. Svaka metoda može se samostalno implementirati, a za mnoge postoje gotove funkcije u okviru biblioteke *sklearn*."
      ]
    },
    {
      "cell_type": "markdown",
      "metadata": {
        "id": "ORcVIcaTyVG0"
      },
      "source": [
        "# Isprobavanje različitih hipoteza"
      ]
    },
    {
      "cell_type": "markdown",
      "metadata": {
        "id": "O967frqaNwXJ"
      },
      "source": [
        "*   Ima li potrebe za korišćenjem drugačije hipoteze? Kako dolazimo do ovog odgovora? Kada se uvode interakcije između obeležja u hipotezu?"
      ]
    },
    {
      "cell_type": "markdown",
      "source": [
        "Prikazati heatmapu korelacije između numeričkih obeležja. Za koje ima smisla da se vrši kombinovanje?"
      ],
      "metadata": {
        "id": "t_GsR9YoDM6N"
      }
    },
    {
      "cell_type": "code",
      "source": [
        "# TODO"
      ],
      "metadata": {
        "id": "zKwMXN07DaqL"
      },
      "execution_count": null,
      "outputs": []
    },
    {
      "cell_type": "markdown",
      "source": [
        "*   Podela skupa podataka na *trening*, *validacioni* i *test* skup\n",
        "*   Standardizacija obeležja\n",
        "*   Obuka modela sa **novom hipotezom** i regularizacijom\n",
        "*   Primena modela na uzorke iz validacionog skupa\n",
        "*   Evaluacija modela spram validacije\n"
      ],
      "metadata": {
        "id": "42_1UXsKEi7t"
      }
    },
    {
      "cell_type": "markdown",
      "metadata": {
        "id": "2V3poH3RyorC"
      },
      "source": [
        "### III model - hipoteza sa interakcijama drugog stepena (bez kvadrata)\n",
        "\\begin{equation} y=b_0+b_1x_1+b_2x_2+b_3x_3+...+b_dx_d+c_1x_1x_2+c_2x_1x_3+c_3x_2x_3+...\\end{equation}"
      ]
    },
    {
      "cell_type": "markdown",
      "source": [
        "Koristeći klasu [`sklearn.preprocessing.PolynomialFeatures`](https://scikit-learn.org/stable/modules/generated/sklearn.preprocessing.PolynomialFeatures.html) kreirati novi set obeležja koji posmatra interakcije drugog stepena (bez kvadrata).\n",
        "\n",
        "Komentarisati ulogu `degree`, `interaction_only` i `include_bias` parametara."
      ],
      "metadata": {
        "id": "hSDs6BeXDpU6"
      }
    },
    {
      "cell_type": "code",
      "source": [
        "# TODO"
      ],
      "metadata": {
        "id": "I3rf3d6JD_vS"
      },
      "execution_count": null,
      "outputs": []
    },
    {
      "cell_type": "markdown",
      "source": [
        "Koristeći metodu [`get_feature_names_out`](https://scikit-learn.org/stable/modules/generated/sklearn.preprocessing.PolynomialFeatures.html#sklearn.preprocessing.PolynomialFeatures.get_feature_names_out) utvrditi koja su novodobijena obeležja i njihov redosled."
      ],
      "metadata": {
        "id": "8xyCgeCoFwGT"
      }
    },
    {
      "cell_type": "code",
      "source": [
        "# TODO"
      ],
      "metadata": {
        "id": "FF4LFyZSFwsw"
      },
      "execution_count": null,
      "outputs": []
    },
    {
      "cell_type": "markdown",
      "source": [
        "Sa novim obeležjima izvršiti standardizaciju, obuku a potom i evaluaciju spram uzoraka iz validacionog skupa."
      ],
      "metadata": {
        "id": "Ec9ugcbHEAhM"
      }
    },
    {
      "cell_type": "code",
      "source": [
        "# TODO"
      ],
      "metadata": {
        "id": "LjiS-ktjFhO5"
      },
      "execution_count": null,
      "outputs": []
    },
    {
      "cell_type": "markdown",
      "metadata": {
        "id": "Bx0xl2Rx2Sth"
      },
      "source": [
        "### III model - hipoteza interakcijama drugog stepena\n",
        "\\begin{equation} y=b_0+b_1x_1+b_2x_2+b_3x_3+...+b_dx_d+c_1x_1x_2+c_2x_1x_3+c_3x_2x_3+...+d_1x_1^2+d_2x_2^2+d_3x_3^2+...+d_nx_n^2\\end{equation}\n",
        "\n"
      ]
    },
    {
      "cell_type": "markdown",
      "source": [
        "Ponoviti prethodne korake, koristeći novu hipotezu."
      ],
      "metadata": {
        "id": "FCymWpoQGD-G"
      }
    },
    {
      "cell_type": "code",
      "source": [
        "# TODO"
      ],
      "metadata": {
        "id": "wgudBpUwGH7R"
      },
      "execution_count": null,
      "outputs": []
    },
    {
      "cell_type": "markdown",
      "metadata": {
        "id": "CmMIZEzE1_H6"
      },
      "source": [
        "### III model - hipoteza sa interakcijama trećeg stepena\n",
        "\\begin{equation} y=b_0+b_1x_1+b_2x_2+b_3x_3+...+b_dx_d+c_1x_1x_2+c_2x_1x_3+c_3x_2x_3+...+d_1x_1^2+d_2x_2^2+d_3x_3^2+...+d_nx_n^2+e_1x_1^3+e_2x_2^3+e_3x_3^3+...+d_nx_n^3\\end{equation}"
      ]
    },
    {
      "cell_type": "code",
      "source": [
        "# TODO"
      ],
      "metadata": {
        "id": "LiP0OeSSGRiZ"
      },
      "execution_count": null,
      "outputs": []
    },
    {
      "cell_type": "markdown",
      "source": [
        "Koja mera evaluacije bi bila najadekvatnija za poređenje i zašto?\n",
        "\n",
        "Za odabranu hipotezu, izvršiti\n",
        "\n",
        "*   Obuka konačnog modela\n",
        "*   Primena modela na test uzorke\n",
        "*   Evaluacija modela"
      ],
      "metadata": {
        "id": "-_aFvtcoGSfP"
      }
    },
    {
      "cell_type": "code",
      "source": [
        "# TODO"
      ],
      "metadata": {
        "id": "rBZ5K9v2GtoK"
      },
      "execution_count": null,
      "outputs": []
    },
    {
      "cell_type": "markdown",
      "source": [
        "### III model - naša hipoteza\n",
        "\n",
        "Kreirati model posmatranjem interakcija obeležja koji imaju međkorelaciju $|corr| > 0.3$. Kako se ponaša model spram prethodnih."
      ],
      "metadata": {
        "id": "i9CedKpOGzJC"
      }
    },
    {
      "cell_type": "code",
      "source": [
        "# TODO"
      ],
      "metadata": {
        "id": "4rKYKICeHXR-"
      },
      "execution_count": null,
      "outputs": []
    },
    {
      "cell_type": "markdown",
      "metadata": {
        "id": "B7_EXGxd4cV_"
      },
      "source": [
        "*   Možemo li sada da primenimo selekciju obeležja? Da li to treba uraditi?"
      ]
    },
    {
      "cell_type": "markdown",
      "source": [
        "Isprobati selekciju obeležja spram postavljenih modela sa različitim hipotezama. Uvesti ograničenje od 5 obeležja. Koji model ima najbolje performanse."
      ],
      "metadata": {
        "id": "UZUSZiWfHfon"
      }
    },
    {
      "cell_type": "code",
      "execution_count": null,
      "metadata": {
        "id": "3ePZ1NAql1WD"
      },
      "outputs": [],
      "source": [
        "# TODO"
      ]
    }
  ],
  "metadata": {
    "colab": {
      "provenance": [],
      "include_colab_link": true
    },
    "kernelspec": {
      "display_name": "Python 3",
      "language": "python",
      "name": "python3"
    },
    "language_info": {
      "codemirror_mode": {
        "name": "ipython",
        "version": 3
      },
      "file_extension": ".py",
      "mimetype": "text/x-python",
      "name": "python",
      "nbconvert_exporter": "python",
      "pygments_lexer": "ipython3",
      "version": "3.7.3"
    }
  },
  "nbformat": 4,
  "nbformat_minor": 0
}