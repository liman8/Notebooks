{
  "nbformat": 4,
  "nbformat_minor": 0,
  "metadata": {
    "colab": {
      "provenance": [],
      "private_outputs": true,
      "gpuType": "T4",
      "collapsed_sections": [
        "P3IDBUNjD1UZ"
      ],
      "include_colab_link": true
    },
    "kernelspec": {
      "name": "python3",
      "display_name": "Python 3"
    },
    "accelerator": "GPU"
  },
  "cells": [
    {
      "cell_type": "markdown",
      "metadata": {
        "id": "view-in-github",
        "colab_type": "text"
      },
      "source": [
        "<a href=\"https://colab.research.google.com/github/liman8/Notebooks/blob/main/Z3_2024_studentska.ipynb\" target=\"_parent\"><img src=\"https://colab.research.google.com/assets/colab-badge.svg\" alt=\"Open In Colab\"/></a>"
      ]
    },
    {
      "cell_type": "markdown",
      "metadata": {
        "id": "2Eem6u193EwU"
      },
      "source": [
        "# Paralelno računarstvo - CUDA Z3\n"
      ]
    },
    {
      "cell_type": "markdown",
      "metadata": {
        "id": "gFj-N8EX38l9"
      },
      "source": [
        "## Preduslovi\n",
        "Kao prvi korak, **obavezno** napravite kopiju ove sveske na svom Google Drive-u (klikom na opciju *Copy to Drive* u meniju na vrhu), kako biste mogli da sačuvate izmene i pokrenete izvršavanje.\n",
        "\n",
        "Zatim, pre nego započnete implementaciju zadataka, **obavezno** izvršite kod iz ćelije ispod. Kod će:\n",
        "- skinuti kompresovanu biblioteku `libwb` koja se koristi u zadacima i raspakovati je na putanju /usr/local/libwb.\n",
        "\n",
        "**Obavezno** promeniti link tako da se biblioteka učitava sa Vašeg ličnog Google drive-a."
      ]
    },
    {
      "cell_type": "code",
      "metadata": {
        "id": "PVEkPwGz25bY"
      },
      "source": [
        "%%bash\n",
        "\n",
        "######################### PREUZMI I PODESI libwb ##############################\n",
        "# preuzmi libwb.zip ako već nije preuzet\n",
        "[[ -f libwb.zip ]] || wget -O libwb.zip \"https://drive.google.com/u/0/uc?id=1yzUz-Rnmquj_3wAoPFLCUDhLTsEMMmGi&export=download\"\n",
        "\n",
        "# otpakuj\n",
        "unzip -oqqd /usr/local libwb.zip"
      ],
      "execution_count": null,
      "outputs": []
    },
    {
      "cell_type": "markdown",
      "metadata": {
        "id": "lJLBa51Oa_G_"
      },
      "source": [
        "Po završetku prethodne ćelije, možete pokrenuti narednu koja proverava da li `libwb` direktorijum postoji na predviđenoj putanji. Ukoliko je sve u redu, naredba će ispisati absolutnu putanju do direktorijuma. U suprotnom će prijaviti da direktorijum nije pronađen. U tom slučaju treba se vratiti na log prethodne ćelije i potražiti gde je došlo do greške."
      ]
    },
    {
      "cell_type": "code",
      "metadata": {
        "id": "w_aHE_e9OxSf"
      },
      "source": [
        "%%bash\n",
        "\n",
        "ls -d /usr/local/libwb/"
      ],
      "execution_count": null,
      "outputs": []
    },
    {
      "cell_type": "markdown",
      "source": [
        "Pokrenite naredbu iz sledeće ćelije kako biste proverili da li je dostupan CUDA kompajler. Ukoliko je kompajler dostupan, ova naredba će ispisati informacije o njemu, uključujući i verziju CUDA-e. Ukoliko postoji problem, biće prijavljeno da komanda *nvcc* nije dostupna. U tom slučaju treba proveriti da li je kao trenutno okruženje (runtime) izabrano GPU."
      ],
      "metadata": {
        "id": "n5Zo-X7zHb3M"
      }
    },
    {
      "cell_type": "code",
      "source": [
        "!nvcc --version"
      ],
      "metadata": {
        "id": "YPqYJY3-PAAX"
      },
      "execution_count": null,
      "outputs": []
    },
    {
      "cell_type": "markdown",
      "metadata": {
        "id": "Vya2EkAHtkvh"
      },
      "source": [
        "## [Opciono] Deinstalacija `libwb` biblioteke\n",
        "Izvršavanjem ćelije ispod briše se instalirana biblioteka `libwb`. Izvršite ovu ćeliju samo ako želite da reinstalirate `libwb` biblioteku."
      ]
    },
    {
      "cell_type": "code",
      "metadata": {
        "id": "SWwYDR0jHDrI"
      },
      "source": [
        "%%bash\n",
        "\n",
        "# obrisi libwb biblioteku\n",
        "[[ -d /usr/local/libwb ]] && rm -r /usr/local/libwb/ && echo \"Obrisana libwb biblioteka.\"\n",
        "[[ -f libwb.zip ]] && rm libwb.zip && echo \"Obrisana libwb.zip arhiva.\""
      ],
      "execution_count": null,
      "outputs": []
    },
    {
      "cell_type": "markdown",
      "metadata": {
        "id": "VwjdZ17xPtDD"
      },
      "source": [
        "## Zadatak &ndash; Rotiranje matrice za 90 stepeni u smeru kazaljke na satu\n",
        "\n",
        "Korišćenjem CUDA tehnologije napisati program koji ulaznu matricu veličine NxM transformiše u matricu veličine MxN rotirajući ulaznu matricu za 90 stepeni u smeru kazaljke na satu. Primer je ilustrovan na slici ispod.\n",
        "\n",
        "![matrix_rotate.png](data:image/png;base64,iVBORw0KGgoAAAANSUhEUgAAASwAAACUCAMAAAAeTeTrAAAAnFBMVEU8eNjv7++mpaX6+vqZAAD/2Wb////gZmZ4kJxqqE/o6OjFxsb/3GZueX9hhVKaAABqqk+Hfnx7Yl9yfohmmFDUuGGHFhfuzWTPY2M+c8hncXpBcLxqQkGEb1VDZ6BSYXSGe110i5ZjWVqSkpJvdGtdald4JiacZGSRinXaZWV/LS2SbW1VanbBYmKjYWF/IyTb29vV1dXz8/OysrLcbMXTAAADRElEQVR42u3b7VLaQBiGYZJgqpsGSKgC4dMEtGprQ3L+59bKdKZATNi3LUzcvR/j+EdHveYm47jQ8Zn2OhCABdaJeYV3xsssLK9cy5ZIljlmYbm9L4L1llP9TRZDZRrW4EZ7g95y0tHfxDysG7DAAgsssMACCyywwAILLLDAAgsssMACCyywzo5VqPbMaztWGQ4FS9ZfBYvW0UskuPK2Y7kLwZnQdLG6lSx+/S7YS9B+LMEXdRarz4LdxuNP+nsyD+tKf2AJsK7AoizKoizKoizKAouyKIuyKIuyKAssyqIsyqIsyvofWAPK0scSvnZnor3p1LSyso1o6VKy0LSynu8Ee45FZ3qRafes575gP+YjwZneKDKurH5XU6rbfcMS/CIjA8vqaq99WFdgURZlURZl+UVeUJYulopKj7K0scKqFmW9v9wNqm1RVh1Wvq1oUVYtllNpy9qyvMbtsJzjtmwtK3BLt+Eqs0w5znFblpblRZnbvPIN66gtW8uKgsIpnPqrKJzdDtqy9Z4VBY7e9tuyt6xmI/X7/UDL6rJUw/t7bfEwPNGW2tO6DNbym2CbdC5YnMaSrQ+x9NoKouCCWKKzyc1Mct70kIbD+6HuNUz2sJRGW7uPZaYuiSV4isBNb9YVnDfdpffX+rsPjx+GJ9pSe1YtxRL8RDKs61D0p4Pa7+rjY3X/raym+5U6fAxS1um29qzsLavc5g1v2zxXFStry8qirHmuqlhZW5baNi/I8oqVtWXp/Kf02MrasjSwKlaUVXcU5uYVK8qqKytzK1aUVVdWWLWirDqsUvk+Zek+Y8b3Kav9Tzn6gGX5lEVZlEVZlGVVWZIf7WE+EuzWtLKydCZYms5X+puHZpVVuEmovyRJH1/192jcPSsUfa/4SXBYPjbuniXEGrcLq91ljSmLsiiLsiiLsiiLsiiLsiiLsiiLsiiLsiiLsiiLsv5gDfT3C6t/tpejfISyNj3BNrMHwWZpItm69Vh50J45bcfaPTdM/038O/gX2qWwjBhYYIEFFlhggQUWWGCBBRZYYIEFFlhggQUWWGCdE+vJaizJC53CJH2UzDSsrStaJvrssjAKS3bq5v3FEZ1RWOceWGCdZz8BAn/77FNI4m4AAAAASUVORK5CYII=)\n",
        "\n",
        "Nekoliko primera sa konkretnim vrednostima matrice:\n",
        "1. Primer sa kvadratnom matricom veličine 6x6:\n",
        "\n",
        "Matrica\n",
        "\n",
        "\\begin{bmatrix}\n",
        "1 & 2 & 3 & 4 & 5 & 6 \\\\\n",
        "7 & 8 & 9 & 10 & 11 & 12 \\\\\n",
        "13 & 14 & 15 & 16 & 17 & 18 \\\\\n",
        "19 & 20 & 21 & 22 & 23 & 24 \\\\\n",
        "25 & 26 & 27 & 28 & 29 & 30 \\\\\n",
        "31 & 32 & 33 & 34 & 35 & 36\n",
        "\\end{bmatrix}\n",
        "\n",
        "  \n",
        "postaje\n",
        "\n",
        "\\begin{bmatrix}\n",
        "31 & 25 & 19 & 13 & 7 & 1 \\\\\n",
        "32 & 26 & 20 & 14 & 8 & 2 \\\\\n",
        "33 & 27 & 21 & 15 & 9 & 3 \\\\\n",
        "34 & 28 & 22 & 16 & 10 & 4 \\\\\n",
        "35 & 29 & 23 & 17 & 11 & 5 \\\\\n",
        "36 & 30 & 24 & 18 & 12 & 6\n",
        "\\end{bmatrix}\n",
        "\n",
        "2. Primer sa nekvadratnom matricom veličine 4x8:\n",
        "\n",
        "Matrica\n",
        "\n",
        "\\begin{bmatrix}\n",
        "1 & 2 & 3 & 4 & 5 & 6 & 7 & 8 \\\\\n",
        "9 & 10 & 11 & 12 & 13 & 14 & 15 & 16 \\\\\n",
        "17 & 18 & 19 & 20 & 21 & 22 & 23 & 24 \\\\\n",
        "25 & 26 & 27 & 28 & 29 & 30 & 31 & 32\n",
        "\\end{bmatrix}\n",
        "\n",
        "postaje\n",
        "\n",
        "\\begin{bmatrix}\n",
        "25 & 17 & 9 & 1 \\\\\n",
        "26 & 18 & 10 & 2 \\\\\n",
        "27 & 19 & 11 & 3 \\\\\n",
        "28 & 20 & 12 & 4 \\\\\n",
        "29 & 21 & 13 & 5 \\\\\n",
        "30 & 22 & 14 & 6 \\\\\n",
        "31 & 23 & 15 & 7 \\\\\n",
        "32 & 24 & 16 & 8\n",
        "\\end{bmatrix}\n",
        "\n",
        "Koraci koje treba implementirati na naznačenim mestima u kodu su sledeći:\n",
        "\n",
        "*   alocirati memoriju na domaćinu (samo za hostOutput),\n",
        "*   alocirati svu potrebnu memoriju na uređaju,\n",
        "*   kopirati memoriju sa domaćina na uređaj (obratite pažnju da **kopirate na uređaj samo ono što je neophodno**),\n",
        "*   izračunati dimenzije mreže; dimenzija bloka određena je makroom `BLOCKSIZE` (videti u pasusu ispod kako se `BLOCKSIZE` može podesiti); **NAPOMENA:** maksimalna dozovljena vrednost ovog makroa je 32, jer CUDA neće dozvoliti više od `32*32=1024` niti po bloku,\n",
        "*   pozvati kernel na izvršenje,\n",
        "*   kopirati memoriju, odnosno rezultat, sa uređaja na domaćina,\n",
        "*   osloboditi memoriju zauzetu na uređaju,\n",
        "*   osloboditi memoriju zauzetu na domaćinu (uključujući i hostInput), i\n",
        "*   implementirati kernel koji izvršava glavnu logiku programa.\n",
        "\n",
        "Treba pokrenuti **onoliko niti koliko ima elemenata u matrici**. Pretpostaviti da **neće uvek u pitanju biti kvadratna matrica**, ali da će blok **uvek biti kvadratnog oblika** i da je veličina bloka takva da su **obe dimenzije matrice uvek deljive sa veličinom bloka**. Dimenzija bloka može se postaviti definisanjem makroa `BLOCKSIZE` pri kompajliranju. Da biste to učinili, u ćeliji za kompajliranje izmenite opciju `-DBLOCKSIZE=4` tako da umesto 4 stoji veličina bloka koju želite.\n",
        "\n",
        "### Tesitranje\n",
        "Postoji 13 unapred pripremljenih testova. Veličine ulaznih matrica u testovima su sledeće:\n",
        "\n",
        "| Redni broj testa | Veličina ulazne matrice |\n",
        "| ---------------- | ----------------------- |\n",
        "| 0                | 4x8                     |\n",
        "| 1                | 8x8                     |\n",
        "| 2                | 16x16                   |\n",
        "| 3                | 32x32                   |\n",
        "| 4                | 64x64                   |\n",
        "| 5                | 16x128                  |\n",
        "| 6                | 64x128                  |\n",
        "| 7                | 256x32                  |\n",
        "| 8                | 6x6                     |\n",
        "| 9                | 27x45                   |\n",
        "| 10               | 207x90                  |\n",
        "| 11               | 10x5                    |\n",
        "| 12               | 175x35                  |\n",
        "\n",
        "Očekuje se da napišete rešenje tako da, ako su **obe** dimenzije matrice iz nekog testa veće ili jednake `BLOCKSIZE`, i deljive sa `BLOCKSIZE`, taj test bude uspešan. Na primer, ako se postavi `-DBLOCKSIZE=2`, očekuje se da testovi 0-8 budu uspešni; ako se postavi `-DBLOCKSIZE=16`, očekuje se da prođu testovi 2-7. Takođe, `BLOCKSIZE`, kao i dimenzije matrice, ne moraju biti stepen dvojke, što je slučaj u poslednjih 5 testova.\n",
        "\n",
        "Pokretanje testa koji prođe uspešno ispisaće \"Solution is correct\". Ne očekujte da u jednom pokretanju prođu svi testovi; prolaznost zavisi od odnosa dimenzija matrice i vrednosti `BLOCKSIZE`, kao što je objašnjeno u prethodnom pasusu. Ispod sekcije za kôd nalaze se sekcije koje možete pokrenuti za testiranje pojedinačnih primera, kao i za testiranje svih primera zajedno. Da biste izabrali koji će se primer zasebno testirati, u ćeliji za pojedinačno testiranje na mesto nule upišite bilo koji broj od 0 do 12. Na putanji `/home/cuda/rotate/dataset` nalaze se folderi čija su imena brojevi od 0 do 12. U svakom od njih postoji `input.raw` fajl koji se može prikazati duplim klikom. Na vrhu svakog *input* fajla su dva broja koji označavaju veličinu matrice, a nakon toga slede sami elementi matrice. Očekivano rešenje za svaki od primera možete videti otvaranjem `output.raw` fajlova (na istoj putanji gde i *input* fajlovi). Ako pokrenete samo jedan test, svoje rešenje možete videti u fajlu koji se takođe zove `output.raw`, a nalazi se na putanji `/home/cuda/rotate`. Za test primere sa malim matricama, možete otvarati pomenute fajlove i pregledati kako se Vaše rešenje razlikuje od očekivanog, za slučaj da test ne prolazi.\n",
        "\n",
        "### Bodovanje\n",
        "\n",
        "Za maksimalan broj poena, potrebno je:\n",
        "* ispravno napisati sekcije u `main` funkciji koda domaćina,\n",
        "* napisati kernel koji daje ispravno rešenje, i\n",
        "* optimizovati kernel deljenom memorijom tako da pristup glavnoj memoriji, i pri čitanju i pri upisu, bude poravnat na nivou bloka niti. Veličine blokova će potencijalno biti manje od veličine *CUDA warp*-a, ali to je dozvoljeno i ne očekuje se da se bavite ovim problemom.\n",
        "\n",
        "**NAPOMENE**:\n",
        "* Bez kernela, odnosno implementiranjem samo odgovarajućeg dela u `main` funkciji, moguće je ostvariti maksimalno 8 poena.\n",
        "* Zadatak urađen u potpunosti pruža mogućnost, ali ne garantuje maksimalan broj poena. Konačan broj poena biće određen tek nakon odbrane rešenja."
      ]
    },
    {
      "cell_type": "markdown",
      "source": [
        "### Preuzimanje fajlova potrebnih za zadatak\n",
        "\n",
        "**Obavezno** promeniti link tako da se učitava sa Vašeg ličnog Google drive-a."
      ],
      "metadata": {
        "id": "ApxxLPvHEB-M"
      }
    },
    {
      "cell_type": "code",
      "source": [
        "%%bash\n",
        "\n",
        "# preuzmi dataset ako vec nije preuzet\n",
        "[[ -f dataset_rotate.zip ]] || wget -O dataset_rotate.zip \"https://drive.google.com/u/0/uc?id=1wcLrZZhb-UAkT2cq7b7z3p8nZDX6mH67&export=download\"\n",
        "\n",
        "# otpakuj u direktorijum u kojem ce se nalaziti izvrsna datoteka resenja\n",
        "mkdir -p /home/cuda/rotate\n",
        "unzip -oqqd /home/cuda/rotate dataset_rotate.zip"
      ],
      "metadata": {
        "id": "VlElIBAXEFqb"
      },
      "execution_count": null,
      "outputs": []
    },
    {
      "cell_type": "code",
      "source": [
        "%%bash\n",
        "\n",
        "ls -d /home/cuda/rotate"
      ],
      "metadata": {
        "id": "qfWVhkulESeM"
      },
      "execution_count": null,
      "outputs": []
    },
    {
      "cell_type": "markdown",
      "source": [
        "### [Opciono] Brisanje zapakovanih i otpakovanih test primera\n",
        "Izvršite ovu ćeliju ako želite da obrišete test podatke zarad ponovnog preuzimanja."
      ],
      "metadata": {
        "id": "9Rmwmpw-PTVb"
      }
    },
    {
      "cell_type": "code",
      "source": [
        "%%bash\n",
        "\n",
        "# obrisi set podataka za testiranje\n",
        "[[ -d /home/cuda/rotate/dataset ]] && rm -r /home/cuda/rotate/dataset && echo \"Obrisan set podataka za testiranje.\"\n",
        "[[ -f dataset_rotate.zip ]] && rm dataset_rotate.zip && echo \"Obrisana dataset_rotate.zip arhiva.\""
      ],
      "metadata": {
        "id": "LQt8gPhCiQG0"
      },
      "execution_count": null,
      "outputs": []
    },
    {
      "cell_type": "markdown",
      "source": [
        "### Mesto za kod\n",
        "\n",
        "Pokrenite ćelju sa kodom pre pokretanja testova, kako bi se fajl sa kodom sačuvao u fajl sistemu sveske. Ovo treba uraditi svaki put kada izmenite rešenje."
      ],
      "metadata": {
        "id": "P3IDBUNjD1UZ"
      }
    },
    {
      "cell_type": "code",
      "source": [
        "%%writefile /home/cuda/rotate/rotate_matrix.cu\n",
        "\n",
        "#include <wb.h>\n",
        "\n",
        "#ifndef BLOCKSIZE\n",
        "  #define BLOCKSIZE 4\n",
        "#endif\n",
        "\n",
        "\n",
        "#define wbCheck(stmt)                                                     \\\n",
        "  do {                                                                    \\\n",
        "    cudaError_t err = stmt;                                               \\\n",
        "    if (err != cudaSuccess) {                                             \\\n",
        "      wbLog(ERROR, \"Failed to run stmt \", #stmt);                         \\\n",
        "      printf(\"Error: %d\\n\", err);                                         \\\n",
        "      printf(\"Error string: %s\\n\", cudaGetErrorString(err));              \\\n",
        "      return -1;                                                          \\\n",
        "    }                                                                     \\\n",
        "  } while (0)\n",
        "\n",
        "\n",
        "/**\n",
        " * Kernel za transformaciju matrice.\n",
        " * Možete mu dodati proizvoljan broj argumenata.\n",
        " * Od postojećih, prvi argument je ulazna matrica.\n",
        " * U drugi treba smestiti rezultujuću matricu.\n",
        " */\n",
        "__global__ void transformMatrix(float *inputMat, float *outputMat /*,...*/ ) {\n",
        "\n",
        "  // TODO: implementirati logiku kernela\n",
        "\n",
        "}\n",
        "\n",
        "int main(int argc, char *argv[]) {\n",
        "\n",
        "  wbArg_t args;\n",
        "\n",
        "  /*\n",
        "   * numRows -> Broj vrsta ulazne matrice. NE TREBA sami da postavljate.\n",
        "   * Ova promenljiva biće automatski postavljena za vas.\n",
        "   */\n",
        "  int numRows;\n",
        "\n",
        "  /*\n",
        "   * numCols -> Broj kolona ulazne matrice. NE TREBA sami da postavljate.\n",
        "   * Ova promenljiva biće automatski postavljena za vas.\n",
        "   */\n",
        "  int numCols;\n",
        "\n",
        "  /*\n",
        "   * Promenljive za ulazne i izlazne podatke na domaćinu.\n",
        "   */\n",
        "  float *hostInput;\n",
        "  float *hostOutput;\n",
        "\n",
        "  /*\n",
        "   * Promenljive za ulazne i izlazne podatke na uređaju.\n",
        "   */\n",
        "  float *deviceInput;\n",
        "  float *deviceOutput;\n",
        "\n",
        "  args = wbArg_read(argc, argv);\n",
        "\n",
        "  //@@ Ne alocirati ručno hostInput, to će učiniti wb biblioteka\n",
        "  hostInput = (float *)wbImport(wbArg_getInputFile(args, 0), &numRows, &numCols);\n",
        "\n",
        "  wbTime_start(Generic, \"Alociranje memorije na domaćinu.\");\n",
        "  //@@ Ovde alocirati memoriju na domaćinu za hostOutput\n",
        "  wbTime_stop(Generic, \"Alociranje memorije na domaćinu.\");\n",
        "\n",
        "  wbTime_start(GPU, \"Alociranje memorije na uređaju.\");\n",
        "  //@@ Ovde alocirajte potrebnu memoriju na uređaju\n",
        "  wbTime_stop(GPU, \"Alociranje memorije na uređaju.\");\n",
        "\n",
        "  wbTime_start(GPU, \"Kopiranje memorije sa domaćina na uređaj.\");\n",
        "  //@@ Ovde kopirajte šta je neophodno sa domaćina na uređaj\n",
        "  //@@ Obratite pažnju da kopirate SAMO podatke koje je apsolutno neophodno kopirati na uređaj\n",
        "  wbTime_stop(GPU, \"Kopiranje memorije sa domaćina na uređaj.\");\n",
        "\n",
        "  //@@ Ovde izračunajte dimnezije bloka i mreže\n",
        "\n",
        "  wbTime_start(Compute, \"Izvršavanje posla na CUDA-i.\");\n",
        "  //@@ Ovde pozovite kernel na izvršenje\n",
        "  wbTime_stop(Compute, \"Izvršavanje posla na CUDA-i.\");\n",
        "\n",
        "  //@@ Ostaviti ovu liniju\n",
        "  cudaDeviceSynchronize();\n",
        "\n",
        "  wbTime_start(Copy, \"Kopiranje memorije sa uređaja na domaćina.\");\n",
        "  //@@ Ovde kopirajte potrebnu memoriju sa uređaja na domaćina\n",
        "  wbTime_stop(Copy, \"Kopiranje memorije sa uređaja na domaćina.\");\n",
        "\n",
        "  //@@ Ostaviti ovu liniju radi provere rešenja\n",
        "  wbSolution(args, hostOutput, numCols, numRows);\n",
        "\n",
        "  wbTime_start(GPU, \"Oslobađanje memorije na uređaju.\");\n",
        "  //@@ Ovde oslobodite memoriju zauzetu na uređaju\n",
        "  wbTime_stop(GPU, \"Oslobađanje memorije na uređaju.\");\n",
        "\n",
        "  //@@ Ovde oslobodite memoriju zauzetu na domaćinu (uključujući i hostInput)\n",
        "\n",
        "}"
      ],
      "metadata": {
        "id": "G10u0NuX70bz"
      },
      "execution_count": null,
      "outputs": []
    },
    {
      "cell_type": "markdown",
      "source": [
        "### Pregled rešenja"
      ],
      "metadata": {
        "id": "4AN1MOfJ23Yf"
      }
    },
    {
      "cell_type": "code",
      "source": [
        "%%writefile /home/cuda/rotate/rotate_matrix.cu\n",
        "\n",
        "#include <wb.h>\n",
        "\n",
        "#ifndef BLOCKSIZE\n",
        "  #define BLOCKSIZE 4\n",
        "#endif\n",
        "\n",
        "\n",
        "#define wbCheck(stmt)                                                     \\\n",
        "  do {                                                                    \\\n",
        "    cudaError_t err = stmt;                                               \\\n",
        "    if (err != cudaSuccess) {                                             \\\n",
        "      wbLog(ERROR, \"Failed to run stmt \", #stmt);                         \\\n",
        "      printf(\"Error: %d\\n\", err);                                         \\\n",
        "      printf(\"Error string: %s\\n\", cudaGetErrorString(err));              \\\n",
        "      return -1;                                                          \\\n",
        "    }                                                                     \\\n",
        "  } while (0)\n",
        "\n",
        "\n",
        "/**\n",
        " * Kernel za transformaciju matrice.\n",
        " * Možete mu dodati proizvoljan broj argumenata.\n",
        " * Od postojećih, prvi argument je ulazna matrica.\n",
        " * U drugi treba smestiti rezultujuću matricu.\n",
        " */\n",
        "__global__ void transformMatrix(float *inputMat, float *outputMat, int numRows, int numCols ) {\n",
        "\n",
        "  // TODO: implementirati logiku kernela\n",
        "\n",
        "    __shared__ float sharedInput[BLOCKSIZE][BLOCKSIZE];\n",
        "\n",
        "    int x = blockIdx.x * blockDim.x + threadIdx.x;\n",
        "    int y = blockIdx.y * blockDim.y + threadIdx.y;\n",
        "\n",
        "    int localX = threadIdx.x;\n",
        "    int localY = threadIdx.y;\n",
        "\n",
        "    if (x < numCols && y < numRows) {\n",
        "        sharedInput[localX][BLOCKSIZE-1-localY] = inputMat[y * numCols + x];\n",
        "    }\n",
        "    __syncthreads();\n",
        "\n",
        "    int outputX = blockIdx.y * blockDim.y + threadIdx.x;\n",
        "    int outputY = (gridDim.x - 1 - blockIdx.x) * blockDim.x + threadIdx.y;\n",
        "\n",
        "    if (outputX < numRows && outputY < numCols) {\n",
        "        outputMat[outputY * numRows + outputX] = sharedInput[localY][localX];\n",
        "    }\n",
        "\n",
        "}\n",
        "\n",
        "int main(int argc, char *argv[]) {\n",
        "\n",
        "  wbArg_t args;\n",
        "\n",
        "  /*\n",
        "   * numRows -> Broj vrsta ulazne matrice. NE TREBA sami da postavljate.\n",
        "   * Ova promenljiva biće automatski postavljena za vas.\n",
        "   */\n",
        "  int numRows;\n",
        "\n",
        "  /*\n",
        "   * numCols -> Broj kolona ulazne matrice. NE TREBA sami da postavljate.\n",
        "   * Ova promenljiva biće automatski postavljena za vas.\n",
        "   */\n",
        "  int numCols;\n",
        "\n",
        "  /*\n",
        "   * Promenljive za ulazne i izlazne podatke na domaćinu.\n",
        "   */\n",
        "  float *hostInput;\n",
        "  float *hostOutput;\n",
        "\n",
        "  /*\n",
        "   * Promenljive za ulazne i izlazne podatke na uređaju.\n",
        "   */\n",
        "  float *deviceInput;\n",
        "  float *deviceOutput;\n",
        "\n",
        "  args = wbArg_read(argc, argv);\n",
        "\n",
        "  //@@ Ne alocirati ručno hostInput, to će učiniti wb biblioteka\n",
        "  hostInput = (float *)wbImport(wbArg_getInputFile(args, 0), &numRows, &numCols);\n",
        "\n",
        "  wbTime_start(Generic, \"Alociranje memorije na domaćinu.\");\n",
        "  //@@ Ovde alocirati memoriju na domaćinu za hostOutput\n",
        "\n",
        "    hostOutput = (float *)malloc(numRows * numCols * sizeof(float));\n",
        "\n",
        "  wbTime_stop(Generic, \"Alociranje memorije na domaćinu.\");\n",
        "\n",
        "  wbTime_start(GPU, \"Alociranje memorije na uređaju.\");\n",
        "  //@@ Ovde alocirajte potrebnu memoriju na uređaju\n",
        "\n",
        "\n",
        "    wbCheck(cudaMalloc((void**)&deviceInput, numRows * numCols * sizeof(float)));\n",
        "    wbCheck(cudaMalloc((void**)&deviceOutput, numRows * numCols * sizeof(float)));\n",
        "\n",
        "  wbTime_stop(GPU, \"Alociranje memorije na uređaju.\");\n",
        "\n",
        "  wbTime_start(GPU, \"Kopiranje memorije sa domaćina na uređaj.\");\n",
        "  //@@ Ovde kopirajte šta je neophodno sa domaćina na uređaj\n",
        "  //@@ Obratite pažnju da kopirate SAMO podatke koje je apsolutno neophodno kopirati na uređaj\n",
        "\n",
        "    wbCheck(cudaMemcpy(deviceInput, hostInput, numRows * numCols * sizeof(float), cudaMemcpyHostToDevice));\n",
        "\n",
        "  wbTime_stop(GPU, \"Kopiranje memorije sa domaćina na uređaj.\");\n",
        "\n",
        "  //@@ Ovde izračunajte dimnezije bloka i mreže\n",
        "    dim3 dimBlock(BLOCKSIZE, BLOCKSIZE);\n",
        "    dim3 dimGrid((numCols + BLOCKSIZE - 1) / BLOCKSIZE, (numRows + BLOCKSIZE - 1) / BLOCKSIZE);\n",
        "\n",
        "\n",
        "  wbTime_start(Compute, \"Izvršavanje posla na CUDA-i.\");\n",
        "  //@@ Ovde pozovite kernel na izvršenje\n",
        "    transformMatrix<<<dimGrid, dimBlock>>>(deviceInput, deviceOutput, numRows, numCols);\n",
        "    wbCheck(cudaGetLastError());\n",
        "  wbTime_stop(Compute, \"Izvršavanje posla na CUDA-i.\");\n",
        "\n",
        "  //@@ Ostaviti ovu liniju\n",
        "  cudaDeviceSynchronize();\n",
        "\n",
        "  wbTime_start(Copy, \"Kopiranje memorije sa uređaja na domaćina.\");\n",
        "  //@@ Ovde kopirajte potrebnu memoriju sa uređaja na domaćina\n",
        "\n",
        "    wbCheck(cudaMemcpy(hostOutput, deviceOutput, numRows * numCols * sizeof(float), cudaMemcpyDeviceToHost));\n",
        "\n",
        "  wbTime_stop(Copy, \"Kopiranje memorije sa uređaja na domaćina.\");\n",
        "\n",
        "  //@@ Ostaviti ovu liniju radi provere rešenja\n",
        "  wbSolution(args, hostOutput, numCols, numRows);\n",
        "\n",
        "  wbTime_start(GPU, \"Oslobađanje memorije na uređaju.\");\n",
        "  //@@ Ovde oslobodite memoriju zauzetu na uređaju\n",
        "\n",
        "    wbCheck(cudaFree(deviceInput));\n",
        "    wbCheck(cudaFree(deviceOutput));\n",
        "\n",
        "  wbTime_stop(GPU, \"Oslobađanje memorije na uređaju.\");\n",
        "\n",
        "  //@@ Ovde oslobodite memoriju zauzetu na domaćinu (uključujući i hostInput)\n",
        "\n",
        "    free(hostInput);\n",
        "    free(hostOutput);\n",
        "\n",
        "\n",
        "    return 0;\n",
        "\n",
        "}"
      ],
      "metadata": {
        "id": "PXdmOWVE23Yh"
      },
      "execution_count": null,
      "outputs": []
    },
    {
      "cell_type": "code",
      "metadata": {
        "id": "5bWKi37CPtDT"
      },
      "source": [
        "%%bash\n",
        "\n",
        "cd /home/cuda/rotate\n",
        "nvcc rotate_matrix.cu -o rotate_matrix \\\n",
        "  -I /usr/local/libwb/ \\\n",
        "  -L /usr/local/libwb/lib \\\n",
        "  -lwb -lcuda -DBLOCKSIZE=4"
      ],
      "execution_count": null,
      "outputs": []
    },
    {
      "cell_type": "markdown",
      "metadata": {
        "id": "uViAn1nBPtDT"
      },
      "source": [
        "### Kompajliranje izvornog koda\n",
        "Pokrenite komandu u ćeliji ispod kako biste kompajlirali rešenje."
      ]
    },
    {
      "cell_type": "markdown",
      "metadata": {
        "id": "wOQ-pSkzPtDU"
      },
      "source": [
        "### [Opciono] Provera da li postoji izvršna datoteka"
      ]
    },
    {
      "cell_type": "code",
      "metadata": {
        "id": "4eRf8ampPtDU"
      },
      "source": [
        "![[ -f /home/cuda/rotate/rotate_matrix ]] && echo \"Postoji.\" || echo \"Ne postoji.\""
      ],
      "execution_count": null,
      "outputs": []
    },
    {
      "cell_type": "markdown",
      "metadata": {
        "id": "bpzY9JaGPtDU"
      },
      "source": [
        "### Pokretanje rešenja nad jednim primerom"
      ]
    },
    {
      "cell_type": "code",
      "metadata": {
        "id": "i6IhsNkEPtDU"
      },
      "source": [
        "%%bash\n",
        "\n",
        "cd /home/cuda/rotate\n",
        "LD_LIBRARY_PATH=\"/usr/local/libwb/lib:$LD_LIBRARY_PATH\" ./rotate_matrix \\\n",
        "      -i dataset/0/input.raw \\\n",
        "      -e dataset/0/output.raw \\\n",
        "      -o output.raw \\\n",
        "      -t vector"
      ],
      "execution_count": null,
      "outputs": []
    },
    {
      "cell_type": "markdown",
      "metadata": {
        "id": "h1mokLTZPtDU"
      },
      "source": [
        "### Pokretanje rešenja nad svim primerima\n",
        "\n",
        "Nakon uspešnog testiranja rešenja na jednom primeru, možete pokrenuti i testiranje rešenja na svim primerima iz seta podataka."
      ]
    },
    {
      "cell_type": "code",
      "metadata": {
        "id": "Ah4xwb1oPtDV"
      },
      "source": [
        "%%bash\n",
        "\n",
        "cd /home/cuda/rotate\n",
        "\n",
        "n=$(ls -dl dataset/* | wc -l)\n",
        "\n",
        "for (( i=0; i<$n; i=i+1 ))\n",
        "do\n",
        "  echo \"Testiram primer $i.\"\n",
        "  echo \"-------------------\"\n",
        "  LD_LIBRARY_PATH=\"/usr/local/libwb/lib:$LD_LIBRARY_PATH\" ./rotate_matrix \\\n",
        "      -i dataset/$i/input.raw \\\n",
        "      -o output.raw \\\n",
        "      -e dataset/$i/output.raw \\\n",
        "      -t vector\n",
        "  echo \"\"\n",
        "done"
      ],
      "execution_count": null,
      "outputs": []
    }
  ]
}